{
 "cells": [
  {
   "cell_type": "code",
   "execution_count": 31,
   "metadata": {},
   "outputs": [],
   "source": [
    "import os\n",
    "from os import listdir, path\n",
    "from nltk.corpus import stopwords \n",
    "from nltk.stem import PorterStemmer\n",
    "ps = PorterStemmer()\n",
    "import re\n",
    "\n",
    "# stopwords\n",
    "stopwords = set(stopwords.words('english'))\n",
    "number = ['one', 'two', 'three', 'four', 'five', 'six', 'seven', 'eight', 'nine', 'ten', 'hundred', 'thousand', '1st', '2nd', '3rd',\n",
    "'4th', '5th', '6th', '7th', '8th', '9th', '10th']\n",
    "for i in number:\n",
    "    stopwords.add(i)\n",
    "\n",
    "def gather_20newgroups_data(path):\n",
    "    dirs = [path + dir_name + \"\\\\\" for dir_name in listdir(path) if not os.path.isfile(path + dir_name)]   # include folders in path\n",
    "    train_dir = dirs[1]\n",
    "    test_dir = dirs[0]\n",
    "    list_newgroups = [newgroup for newgroup in listdir(train_dir)]   # store classes\n",
    "    list_newgroups.sort() \n",
    "\n",
    "    #\n",
    "    def collect_data_from(parent_dir, newgroups_list):\n",
    "        data = []   # store each document as an item in a list\n",
    "        for class_id, class_name in enumerate(newgroups_list):\n",
    "            label = class_id\n",
    "            dir_path = parent_dir + \"\\\\\" + class_name + \"\\\\\"\n",
    "            files = [(filename, dir_path + filename) for filename in listdir(dir_path) if os.path.isfile(dir_path + filename)]\n",
    "            files.sort()\n",
    "            for filename, filepath in files:\n",
    "                with open(filepath) as f:\n",
    "                    text = f.read().lower()\n",
    "                    words = [ps.stem(word) for word in re.split('\\W+', text) if word not in stopwords]\n",
    "                    content = ' '.join(words)\n",
    "                    assert len(content.splitlines()) == 1  # check whether all the document is a list now\n",
    "                    data.append(str(label) + '<fff>' + filename + '<fff>' + content)\n",
    "        return data\n",
    "    \n",
    "    # get cleaned train_data and test_data\n",
    "    train_data = collect_data_from(train_dir, list_newgroups)\n",
    "    test_data = collect_data_from(test_dir, list_newgroups)\n",
    "    \n",
    "    #full_data\n",
    "    full_data = train_data + test_data\n",
    "    \n",
    "    with open(\"D:\\\\movedFromC\\\\123\\\\20192\\\\PRJ2\\\\Project2\\\\processedTrain.txt\", 'w') as f:\n",
    "        f.write('\\n'.join(train_data))\n",
    "    with open(\"D:\\\\movedFromC\\\\123\\\\20192\\\\PRJ2\\\\Project2\\\\processedTest.txt\", 'w') as f:\n",
    "        f.write('\\n'.join(test_data))\n",
    "    with open(\"D:\\\\movedFromC\\\\123\\\\20192\\\\PRJ2\\\\Project2\\\\processedFull.txt\", 'w') as f:\n",
    "        f.write('\\n'.join(full_data))"
   ]
  },
  {
   "cell_type": "code",
   "execution_count": 140,
   "metadata": {},
   "outputs": [],
   "source": [
    "from collections import defaultdict \n",
    "import numpy as np\n",
    "\n",
    "def generate_vocab(data_path, df):\n",
    "    def compute_idf(df, corpus_size):   # of one word\n",
    "        assert df > 0\n",
    "        return np.log10(corpus_size * 1. / df)\n",
    "    \n",
    "    with open(data_path) as f:\n",
    "        lines = f.read().splitlines()\n",
    "    doc_count = defaultdict(int) # dict to store number of docs containing a word\n",
    "    corpus_size = len(lines)    # numbers of docs\n",
    "    \n",
    "    for line in lines:     # each line is a doc\n",
    "        features = line.split('<fff>')\n",
    "        text = features[-1]\n",
    "        words = list(set(text.split()))  # list distinguished words of one doc\n",
    "        for word in words:  \n",
    "            doc_count[word] += 1\n",
    "    \n",
    "    words_idfs = [(word, compute_idf(value, corpus_size)) for word, value in doc_count.items() if value > df and not word.isdigit()]\n",
    "    words_idfs.sort(key=lambda tup: -tup[1])\n",
    "    print(\"Vocal size: {}\".format(len(words_idfs)))\n",
    "    with open(\"D:\\\\movedFromC\\\\123\\\\20192\\\\PRJ2\\\\Project2\\\\words_idfs.txt\", 'w') as f:\n",
    "        f.write('\\n'.join([word + '<fff>' + str(idf) for word, idf in words_idfs]))"
   ]
  },
  {
   "cell_type": "code",
   "execution_count": 148,
   "metadata": {},
   "outputs": [],
   "source": [
    "def get_tf_idf(data_path):\n",
    "    # get idfs from file\n",
    "    with open(\"D:\\\\movedFromC\\\\123\\\\20192\\\\PRJ2\\\\Project2\\\\words_idfs.txt\", 'r') as f:\n",
    "        words_idfs = [(line.split('<fff>')[0], float(line.split('<fff>')[1])) for line in f.read().splitlines()]\n",
    "        \n",
    "    word_IDs = dict([(word, idx) for idx, (word, idf) in enumerate(words_idfs)])\n",
    "    idfs = dict(words_idfs)\n",
    "    \n",
    "    with open(data_path) as f:\n",
    "        docs = [(int(line.split('<fff>')[0]), int(line.split('<fff>')[1]), line.split('<fff>')[2]) for line in f.read().splitlines()]\n",
    "        \n",
    "    data_tf_idf = []\n",
    "    for doc in docs:\n",
    "        label = doc[0]\n",
    "        doc_id = doc[1]\n",
    "        text = doc[2]\n",
    "      \n",
    "        words = [word for word in text.split() if word in idfs]    # all the words from one doc that belong to vocab\n",
    "        word_set = list(set(words))      #distinguished words of one doc\n",
    "        assert(len(word_set) > 0)\n",
    "        max_term_freq = max([words.count(word) for word in word_set])\n",
    "        \n",
    "        words_tfidfs = []\n",
    "        sum_squares = 0.0\n",
    "        for word in word_set:\n",
    "            term_freq = words.count(word)\n",
    "            tf_idf_value = term_freq * 1. / max_term_freq * idfs[word]\n",
    "            words_tfidfs.append((word_IDs[word], tf_idf_value))\n",
    "            sum_squares += tf_idf_value ** 2\n",
    "        \n",
    "        words_tfidfs_normalized = [str(idx) + ':' + str(tf_idf_value / np.sqrt(sum_squares)) for idx, tf_idf_value in words_tfidfs]\n",
    "        \n",
    "        data_tf_idf.append((label, doc_id, ' '.join(words_tfidfs_normalized)))\n",
    "    \n",
    "    with open(\"D:\\\\movedFromC\\\\123\\\\20192\\\\PRJ2\\\\Project2\\\\words_tfidfs.txt\", 'w') as f:\n",
    "        f.write('\\n'.join([str(label) + '<fff>' + str(doc_id) + '<fff>' + value for label, doc_id, value in data_tf_idf]))"
   ]
  },
  {
   "cell_type": "code",
   "execution_count": 32,
   "metadata": {},
   "outputs": [],
   "source": [
    "gather_20newgroups_data(\"D:\\\\movedFromC\\\\123\\\\20192\\\\PRJ2\\\\20news-bydate\\\\\")"
   ]
  },
  {
   "cell_type": "code",
   "execution_count": 149,
   "metadata": {},
   "outputs": [
    {
     "name": "stdout",
     "output_type": "stream",
     "text": [
      "Vocal size: 10272\n"
     ]
    }
   ],
   "source": [
    "generate_vocab(\"D:\\\\movedFromC\\\\123\\\\20192\\\\PRJ2\\\\Project2\\\\processedTrain.txt\", 10)"
   ]
  },
  {
   "cell_type": "code",
   "execution_count": 150,
   "metadata": {
    "scrolled": true
   },
   "outputs": [],
   "source": [
    "get_tf_idf(\"D:\\\\movedFromC\\\\123\\\\20192\\\\PRJ2\\\\Project2\\\\processedTrain.txt\")"
   ]
  }
 ],
 "metadata": {
  "kernelspec": {
   "display_name": "Python 3",
   "language": "python",
   "name": "python3"
  },
  "language_info": {
   "codemirror_mode": {
    "name": "ipython",
    "version": 3
   },
   "file_extension": ".py",
   "mimetype": "text/x-python",
   "name": "python",
   "nbconvert_exporter": "python",
   "pygments_lexer": "ipython3",
   "version": "3.7.6"
  }
 },
 "nbformat": 4,
 "nbformat_minor": 4
}
